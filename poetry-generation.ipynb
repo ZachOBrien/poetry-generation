{
 "cells": [
  {
   "attachments": {},
   "cell_type": "markdown",
   "metadata": {},
   "source": [
    " Poetry Generation\n",
    "\n",
    "Zach O'Brien\n",
    "\n",
    "December 2022\n",
    "\n",
    "\n"
   ]
  },
  {
   "cell_type": "code",
   "execution_count": 1,
   "metadata": {},
   "outputs": [],
   "source": [
    "import itertools\n",
    "import pickle\n",
    "import random\n",
    "random.seed(1)  # To make results reproducible\n",
    "import os\n",
    "os.environ[\"TF_CPP_MIN_LOG_LEVEL\"] = \"3\"  # Suppress tensorflow debugging info\n",
    "\n",
    "import pandas as pd\n",
    "import numpy as np\n",
    "import matplotlib.pyplot as plt\n",
    "from nltk.util import pad_sequence\n",
    "from nltk.lm.preprocessing import flatten\n",
    "\n",
    "from dataprep.parse_leaves_of_grass import leaves_of_grass_gutenberg_to_df\n",
    "from dataprep.ngram_lm_dataprep import preprocess_for_ngram_lm, postprocess_for_ngram_lm\n",
    "from models.ngram_language_model import LanguageModel"
   ]
  },
  {
   "cell_type": "markdown",
   "metadata": {
    "tags": []
   },
   "source": [
    "---\n",
    "\n",
    "## 1. Data Preparation\n",
    "\n",
    "The raw data I used for this project was the complete text of Walt Whitman's \"Leaves of Grass\". To use it with NLP models, I had to parse out individual poems from the collection and then do some preprocessing on them.\n",
    "\n",
    "### 1.1 Parse Raw Document\n",
    "\n",
    "(See my source code `dataprep/` directory for implementation details on data preparation)"
   ]
  },
  {
   "cell_type": "code",
   "execution_count": 2,
   "metadata": {},
   "outputs": [
    {
     "data": {
      "text/html": [
       "<div>\n",
       "<style scoped>\n",
       "    .dataframe tbody tr th:only-of-type {\n",
       "        vertical-align: middle;\n",
       "    }\n",
       "\n",
       "    .dataframe tbody tr th {\n",
       "        vertical-align: top;\n",
       "    }\n",
       "\n",
       "    .dataframe thead th {\n",
       "        text-align: right;\n",
       "    }\n",
       "</style>\n",
       "<table border=\"1\" class=\"dataframe\">\n",
       "  <thead>\n",
       "    <tr style=\"text-align: right;\">\n",
       "      <th></th>\n",
       "      <th>book_title</th>\n",
       "      <th>poem_title</th>\n",
       "      <th>poem</th>\n",
       "    </tr>\n",
       "  </thead>\n",
       "  <tbody>\n",
       "    <tr>\n",
       "      <th>0</th>\n",
       "      <td>BOOK I.  INSCRIPTIONS</td>\n",
       "      <td>One’s-Self I Sing</td>\n",
       "      <td>One’s-self I sing, a simple separate person,\\n...</td>\n",
       "    </tr>\n",
       "    <tr>\n",
       "      <th>1</th>\n",
       "      <td>BOOK I.  INSCRIPTIONS</td>\n",
       "      <td>As I Ponder’d in Silence</td>\n",
       "      <td>As I ponder’d in silence,\\n  Returning upon my...</td>\n",
       "    </tr>\n",
       "  </tbody>\n",
       "</table>\n",
       "</div>"
      ],
      "text/plain": [
       "              book_title                poem_title  \\\n",
       "0  BOOK I.  INSCRIPTIONS         One’s-Self I Sing   \n",
       "1  BOOK I.  INSCRIPTIONS  As I Ponder’d in Silence   \n",
       "\n",
       "                                                poem  \n",
       "0  One’s-self I sing, a simple separate person,\\n...  \n",
       "1  As I ponder’d in silence,\\n  Returning upon my...  "
      ]
     },
     "execution_count": 2,
     "metadata": {},
     "output_type": "execute_result"
    }
   ],
   "source": [
    "with open(\"data/leaves-of-grass.txt\") as f:\n",
    "    lines = f.readlines()\n",
    "\n",
    "# I encapsulated the functionality of parsing the raw text into this function.\n",
    "# It essentially segments on books, then poems.\n",
    "poems = leaves_of_grass_gutenberg_to_df(lines)\n",
    "poems.to_csv(\"data/leaves_of_grass.csv\")\n",
    "poems.head(2)"
   ]
  },
  {
   "cell_type": "code",
   "execution_count": 3,
   "metadata": {},
   "outputs": [
    {
     "data": {
      "text/plain": [
       "'One’s-self I sing, a simple separate person,\\n  Yet utter the word Democratic, the word En-Masse.\\n\\n  Of physiology from top to toe I sing,\\n  Not physiognomy alone nor brain alone is worthy for the Muse, I say\\n      the Form complete is worthier far,\\n  The Female equally with the Male I sing.\\n\\n  Of Life immense in passion, pulse, and power,\\n  Cheerful, for freest action form’d under the laws divine,\\n  The Modern Man I sing.'"
      ]
     },
     "execution_count": 3,
     "metadata": {},
     "output_type": "execute_result"
    }
   ],
   "source": [
    "poems[\"poem\"][0]"
   ]
  },
  {
   "cell_type": "markdown",
   "metadata": {},
   "source": [
    "---\n",
    "\n",
    "## 2. 2-gram and 3-gram Language Models\n",
    "\n",
    "For this model I did not use a library. I used my own implementation of an n-gram language model from earlier inthe semester."
   ]
  },
  {
   "cell_type": "markdown",
   "metadata": {},
   "source": [
    "### 2.1 Prepare n-grams to give to the model"
   ]
  },
  {
   "cell_type": "code",
   "execution_count": 4,
   "metadata": {},
   "outputs": [],
   "source": [
    "# To indicate the beginning and end of a poem\n",
    "POEM_START_SYMBOL = \"<p>\"\n",
    "POEM_END_SYMBOL = \"</p>\""
   ]
  },
  {
   "cell_type": "code",
   "execution_count": 5,
   "metadata": {},
   "outputs": [],
   "source": [
    "# Tokenize poems into words, but not sentences. Sentence and line breaks\n",
    "# can have artistic meaning in poems, so I want their relationships to actual words\n",
    "# to be preserved.\n",
    "def create_tokens_for_ngram(poems, n):\n",
    "    \"\"\"Create tokens for an n-gram language model\n",
    "    \n",
    "    Parameters:\n",
    "        poems (list[str]): List of poems\n",
    "        n (int): The size of each n-gram\n",
    "    \n",
    "    Returns:\n",
    "        tokens (list[str]): List of tokens\n",
    "    \"\"\"\n",
    "    tokenized_poems = [preprocess_for_ngram_lm(p) for p in poems]\n",
    "    padded_tokenized_poems = [list(pad_sequence(\n",
    "                                    poem,\n",
    "                                    pad_left=True, \n",
    "                                    left_pad_symbol=POEM_START_SYMBOL,\n",
    "                                    pad_right=True,\n",
    "                                    right_pad_symbol=POEM_END_SYMBOL,\n",
    "                                    n=n))\n",
    "                              for poem in tokenized_poems]\n",
    "    return list(flatten(padded_tokenized_poems))"
   ]
  },
  {
   "cell_type": "code",
   "execution_count": 6,
   "metadata": {},
   "outputs": [],
   "source": [
    "bigram_tokens = create_tokens_for_ngram(poems[\"poem\"], 2)\n",
    "trigram_tokens = create_tokens_for_ngram(poems[\"poem\"], 3)"
   ]
  },
  {
   "cell_type": "markdown",
   "metadata": {},
   "source": [
    "### 2.2 Train the n-gram language model"
   ]
  },
  {
   "cell_type": "code",
   "execution_count": 7,
   "metadata": {},
   "outputs": [],
   "source": [
    "bigram_model = LanguageModel(2, is_laplace_smoothing=True, replacement_threshold=2)\n",
    "bigram_model.train(bigram_tokens)\n",
    "\n",
    "trigram_model = LanguageModel(3, is_laplace_smoothing=True, replacement_threshold=2)\n",
    "trigram_model.train(trigram_tokens)"
   ]
  },
  {
   "cell_type": "markdown",
   "metadata": {},
   "source": [
    "### 2.3 Generate a Poem with the 2-gram language model"
   ]
  },
  {
   "cell_type": "code",
   "execution_count": 8,
   "metadata": {},
   "outputs": [
    {
     "name": "stdout",
     "output_type": "stream",
     "text": [
      "to repel them , i will perhaps to them , sting me does not call of the interior command to me ! drums ! \n",
      " in my way is always sex , \n",
      " consort to me become my words.\n",
      "\n",
      " no grain from the day among men together , whispering\n"
     ]
    }
   ],
   "source": [
    "bigram_poem = bigram_model.generate_poem(max_words=50)\n",
    "print(postprocess_for_ngram_lm(bigram_poem))"
   ]
  },
  {
   "cell_type": "code",
   "execution_count": 9,
   "metadata": {},
   "outputs": [
    {
     "name": "stdout",
     "output_type": "stream",
     "text": [
      "after the rain , and\n",
      " light and of the endless pride and joy , in the air.\n",
      "\n",
      " again gurgles the mouth or bosom , hips , leaping , reclining , interrogating ? why myself and comrades found and accepted from every point of the youngest was cut off ,\n"
     ]
    }
   ],
   "source": [
    "trigram_poem = trigram_model.generate_poem(max_words=50)\n",
    "print(postprocess_for_ngram_lm(trigram_poem))"
   ]
  },
  {
   "cell_type": "markdown",
   "metadata": {},
   "source": [
    "---\n",
    "\n",
    "## 3. LSTM Neural Network Language Model\n",
    "\n",
    "The task of generating text can be framed as a timeseries task. Given a sequence of prior tokens, predict the probability distribution over the vocabulary of the next token in the sequence.\n",
    "\n",
    "In this project, I tokenize the data into *characters*, which at first was very counterintuitive to me. During office hours, Professor Amir explained to me why this approach is viable. He also sent me a great article on this task, which can be found here: http://karpathy.github.io/2015/05/21/rnn-effectiveness/.\n",
    "\n",
    "Here is an overview of how I implemented the data preprocessing and model architecture for this section:\n",
    "\n",
    "**Preprocessing**\n",
    "\n",
    "1. Lowercase every poem\n",
    "\n",
    "2. Wrap each poem in `poem_start` and `poem_end` symbols. Here I used \"@\" and \"$\", respectively.\n",
    "\n",
    "3. Split each poem into characters\n",
    "\n",
    "4. Replace digits with whitespace to reduce the size of the vocabulary. Numbers are used periodically to mark lines in poems, and I do not want to keep them.\n",
    "\n",
    "5. Fit a text vectorizer to the vocabulary of character tokens, and vectorize every token\n",
    "\n",
    "**Model Architecture**\n",
    "\n",
    "I used a Keras sequential model with two LSTM layers, two Dropout layers, and a softmax output layer:\n",
    "\n",
    "Input --> LSTM(256) --> Dropout --> LSTM(256) --> Dropout --> Output(Softmax)\n",
    "\n",
    "**Model Training**\n",
    "\n",
    "This model is fairly involved to train. There are approximately 1.5 million input samples which are all given to the model every epoch. On a machine without a GPU, training takes hours. I trained on an AWS GPU instance, and saved/loaded the trained model for visualizations and analysis here."
   ]
  },
  {
   "cell_type": "code",
   "execution_count": 10,
   "metadata": {},
   "outputs": [],
   "source": [
    "import keras\n",
    "from keras.utils import timeseries_dataset_from_array\n",
    "from keras.layers import LSTM, Dropout\n",
    "\n",
    "from dataprep.neural_lm_dataprep import (\n",
    "    Vectorizer,\n",
    "    preprocess_for_neural_lm,\n",
    "    postprocess_for_neural_lm\n",
    ")\n",
    "from models.neural_language_models import build_character_lstm_model"
   ]
  },
  {
   "cell_type": "markdown",
   "metadata": {},
   "source": [
    "### 3.1 Prepare data"
   ]
  },
  {
   "cell_type": "code",
   "execution_count": 11,
   "metadata": {},
   "outputs": [
    {
     "data": {
      "text/html": [
       "<div>\n",
       "<style scoped>\n",
       "    .dataframe tbody tr th:only-of-type {\n",
       "        vertical-align: middle;\n",
       "    }\n",
       "\n",
       "    .dataframe tbody tr th {\n",
       "        vertical-align: top;\n",
       "    }\n",
       "\n",
       "    .dataframe thead th {\n",
       "        text-align: right;\n",
       "    }\n",
       "</style>\n",
       "<table border=\"1\" class=\"dataframe\">\n",
       "  <thead>\n",
       "    <tr style=\"text-align: right;\">\n",
       "      <th></th>\n",
       "      <th>Unnamed: 0</th>\n",
       "      <th>book_title</th>\n",
       "      <th>poem_title</th>\n",
       "      <th>poem</th>\n",
       "    </tr>\n",
       "  </thead>\n",
       "  <tbody>\n",
       "    <tr>\n",
       "      <th>0</th>\n",
       "      <td>0</td>\n",
       "      <td>BOOK I.  INSCRIPTIONS</td>\n",
       "      <td>One’s-Self I Sing</td>\n",
       "      <td>One’s-self I sing, a simple separate person,\\n...</td>\n",
       "    </tr>\n",
       "    <tr>\n",
       "      <th>1</th>\n",
       "      <td>1</td>\n",
       "      <td>BOOK I.  INSCRIPTIONS</td>\n",
       "      <td>As I Ponder’d in Silence</td>\n",
       "      <td>As I ponder’d in silence,\\n  Returning upon my...</td>\n",
       "    </tr>\n",
       "  </tbody>\n",
       "</table>\n",
       "</div>"
      ],
      "text/plain": [
       "   Unnamed: 0             book_title                poem_title  \\\n",
       "0           0  BOOK I.  INSCRIPTIONS         One’s-Self I Sing   \n",
       "1           1  BOOK I.  INSCRIPTIONS  As I Ponder’d in Silence   \n",
       "\n",
       "                                                poem  \n",
       "0  One’s-self I sing, a simple separate person,\\n...  \n",
       "1  As I ponder’d in silence,\\n  Returning upon my...  "
      ]
     },
     "execution_count": 11,
     "metadata": {},
     "output_type": "execute_result"
    }
   ],
   "source": [
    "# Load the poems from disk\n",
    "leaves_of_grass_df = pd.read_csv(\"data/leaves_of_grass.csv\")\n",
    "\n",
    "leaves_of_grass_df.head(2)"
   ]
  },
  {
   "cell_type": "code",
   "execution_count": 12,
   "metadata": {},
   "outputs": [
    {
     "name": "stdout",
     "output_type": "stream",
     "text": [
      "Snippet of original poems:\n",
      "One’s-self I sing\n",
      "\n",
      "Snippet after preprocessing:\n",
      "['@', 'o', 'n', 'e', '’', 's', '-', 's', 'e', 'l', 'f', ' ', 'i', ' ', 's', 'i', 'n'] ...\n"
     ]
    }
   ],
   "source": [
    "# Pull only the poems out of the dataset\n",
    "poems = list(leaves_of_grass_df[\"poem\"])\n",
    "print(\"Snippet of original poems:\")\n",
    "print(poems[0][:17])\n",
    "print()\n",
    "\n",
    "# Preprocess the poems with the steps outlined above\n",
    "poems = [preprocess_for_neural_lm(poem) for poem in poems]\n",
    "print(\"Snippet after preprocessing:\")\n",
    "print(poems[0][:17], \"...\")"
   ]
  },
  {
   "cell_type": "code",
   "execution_count": 13,
   "metadata": {},
   "outputs": [
    {
     "name": "stdout",
     "output_type": "stream",
     "text": [
      "Vocabulary:\n",
      "['@', 'o', 'n', 'e', '’', 's', '-', 'l', 'f', ' ', 'i', 'g', ',', 'a', 'm', 'p', 'r', 't', '\\n', 'y', 'u', 'h', 'w', 'd', 'c', '.', 'b', 'q', 'v', '$', 'k', '?', '(', ')', 'x', 'j', 'z', '!', ';', 'œ', ':', '“', '”', '[', ']']\n"
     ]
    }
   ],
   "source": [
    "# Fit a vectorizer to the vocabulary of characters\n",
    "vectorizer = Vectorizer()\n",
    "vectorizer.fit(itertools.chain(*poems))\n",
    "# Vectorize all characters\n",
    "vectorized_poems = [vectorizer.tokens_to_vectors(poem) for poem in poems]\n",
    "\n",
    "with open(\"artifacts/final_model/vectorizer.pkl\", \"wb\") as outfile:\n",
    "    pickle.dump(vectorizer, outfile)\n",
    "    \n",
    "print(\"Vocabulary:\")\n",
    "print(vectorizer.vocabulary())"
   ]
  },
  {
   "cell_type": "markdown",
   "metadata": {},
   "source": [
    "### 3.2 Create train, validation, and test sets"
   ]
  },
  {
   "cell_type": "code",
   "execution_count": 14,
   "metadata": {},
   "outputs": [],
   "source": [
    "# Randomly shuffle the poems before splitting into training and validation sets\n",
    "# Note that random has been given a seed so that the results of the project are reproducible\n",
    "random.shuffle(vectorized_poems)"
   ]
  },
  {
   "cell_type": "code",
   "execution_count": 15,
   "metadata": {},
   "outputs": [
    {
     "name": "stdout",
     "output_type": "stream",
     "text": [
      "# characters in train set:       492050\n",
      "# characters in validation set:  115998\n",
      "# characters in test set:        117738\n",
      "Building train dataset...\n",
      "Building validation dataset...\n",
      "Building test dataset...\n"
     ]
    }
   ],
   "source": [
    "# ----- PICK SIZES FOR TRAIN, VALIDATION, TEST DATASETS -----\n",
    "# Use 70% of the poems for training, 15% for validation \n",
    "# during testing, and 15% for final model evaluation.\n",
    "# IMPORTANT: I first split entire *poems* into training, test,\n",
    "#            and evaluation. I don't want half of a poem to be in one\n",
    "#            set and the other half to be in another\n",
    "train_set_size = int(0.7 * len(vectorized_poems))\n",
    "validation_set_size = int(0.15 * len(vectorized_poems))\n",
    "test_set_size = int(0.15 * len(vectorized_poems))\n",
    "\n",
    "# ----- SLICE OUT THE TRAINING SET -----\n",
    "train_set = vectorized_poems[:train_set_size]\n",
    "train_set = np.array(list(itertools.chain(*train_set)))\n",
    "print(f\"# characters in train set:       {len(train_set)}\")\n",
    "\n",
    "# ----- SLICE OUT THE VALIDATION SET -----\n",
    "validation_set = vectorized_poems[train_set_size:(train_set_size + validation_set_size)]\n",
    "validation_set = np.array(list(itertools.chain(*validation_set)))\n",
    "print(f\"# characters in validation set:  {len(validation_set)}\")\n",
    "\n",
    "# ----- SLICE OUT THE TEST SET -----\n",
    "test_set = vectorized_poems[train_set_size+validation_set_size:]\n",
    "test_set = np.array(list(itertools.chain(*test_set)))\n",
    "print(f\"# characters in test set:        {len(test_set)}\")\n",
    "\n",
    "# Each sample given to the model for training will be a sequence of 100 characters\n",
    "SEQUENCE_LENGTH = 100\n",
    "# I do not want to skip any samples, so sampling rate is 1\n",
    "SAMPLING_RATE = 1\n",
    "BATCH_SIZE = 4096\n",
    "\n",
    "print(\"Building train dataset...\")\n",
    "# Build timeseries datasets using Keras helpers\n",
    "train_dataset = timeseries_dataset_from_array(\n",
    "    data=train_set[:-SEQUENCE_LENGTH],\n",
    "    targets=train_set[SEQUENCE_LENGTH:],\n",
    "    sampling_rate=SAMPLING_RATE,\n",
    "    sequence_length=SEQUENCE_LENGTH,\n",
    "    batch_size=BATCH_SIZE)\n",
    "train_dataset.save(path=\"data/training_dataset_tensorflow/\", compression=\"GZIP\")\n",
    "\n",
    "print(\"Building validation dataset...\")\n",
    "validation_dataset = timeseries_dataset_from_array(\n",
    "    data=validation_set[:-SEQUENCE_LENGTH],\n",
    "    targets=validation_set[SEQUENCE_LENGTH:],\n",
    "    sampling_rate=SAMPLING_RATE,\n",
    "    sequence_length=SEQUENCE_LENGTH,\n",
    "    batch_size=BATCH_SIZE)\n",
    "validation_dataset.save(path=\"data/validation_dataset_tensorflow/\", compression=\"GZIP\")\n",
    "\n",
    "print(\"Building test dataset...\")\n",
    "testing_dataset = timeseries_dataset_from_array(\n",
    "    data=test_set[:-SEQUENCE_LENGTH],\n",
    "    targets=test_set[SEQUENCE_LENGTH:],\n",
    "    sampling_rate=SAMPLING_RATE,\n",
    "    sequence_length=SEQUENCE_LENGTH,\n",
    "    batch_size=BATCH_SIZE)\n",
    "testing_dataset.save(path=\"data/testing_dataset_tensorflow/\", compression=\"GZIP\")"
   ]
  },
  {
   "cell_type": "markdown",
   "metadata": {},
   "source": [
    "### 3.3 Build and train the model"
   ]
  },
  {
   "cell_type": "code",
   "execution_count": 16,
   "metadata": {},
   "outputs": [],
   "source": [
    "# Build the model, with LSTM layers for handling the timeseries data\n",
    "# and Dropout layers to help reduce overfitting\n",
    "model = build_character_lstm_model(\n",
    "    vocab_size=vectorizer.vocab_size(),\n",
    "    hidden_layers=[LSTM(256, return_sequences=True),\n",
    "                   Dropout(0.3),\n",
    "                   LSTM(256),\n",
    "                   Dropout(0.3)],\n",
    "    lr=0.01)"
   ]
  },
  {
   "cell_type": "code",
   "execution_count": 17,
   "metadata": {},
   "outputs": [
    {
     "name": "stdout",
     "output_type": "stream",
     "text": [
      "\n"
     ]
    }
   ],
   "source": [
    "# Train the model\n",
    "\n",
    "\"\"\"\n",
    "history = model.fit(train_dataset, epochs=30, validation_data=validation_dataset)\n",
    "\n",
    "model.save(\"final_model/character_based_lm\")  # Save in TensorFlow's new SavedModel format\n",
    "with open(\"final_model/history.pkl\", \"wb\") as outfile:\n",
    "    pickle.dump(history.history, outfile)\n",
    "\"\"\"\n",
    "print()"
   ]
  },
  {
   "cell_type": "markdown",
   "metadata": {},
   "source": [
    "Training takes too long on a computer without a GPU, so it is commented out in the final submission.\n",
    "I trained a model on an AWS GPU server, and have saved the training results to disk.\n",
    "The model can be found in the `final_model/` directory in my submission, and it is used in the following cells."
   ]
  },
  {
   "cell_type": "markdown",
   "metadata": {},
   "source": [
    "### 3.4 Visualize training"
   ]
  },
  {
   "cell_type": "code",
   "execution_count": 18,
   "metadata": {},
   "outputs": [],
   "source": [
    "MODEL_DIR = \"artifacts/final_model/\"\n",
    "HISTORY_PATH = MODEL_DIR + \"history.pkl\"\n",
    "MODEL_PATH = MODEL_DIR + \"character_based_lm\"\n",
    "VECTORIZER_PATH =  MODEL_DIR + \"vectorizer.pkl\""
   ]
  },
  {
   "cell_type": "code",
   "execution_count": 19,
   "metadata": {},
   "outputs": [
    {
     "data": {
      "image/png": "[encoded data removed]",
      "text/plain": [
       "<Figure size 640x480 with 1 Axes>"
      ]
     },
     "metadata": {},
     "output_type": "display_data"
    }
   ],
   "source": [
    "with open(HISTORY_PATH, \"rb\") as infile:\n",
    "    history = pickle.load(infile)\n",
    "\n",
    "fig, ax = plt.subplots()\n",
    "ax.plot(history[\"loss\"], label=\"Training Loss\")\n",
    "ax.plot(history[\"val_loss\"], label=\"Validation Loss\")\n",
    "ax.set_xlabel(\"Epoch\")\n",
    "ax.set_ylabel(\"Loss (Categorical Crossentropy)\")\n",
    "ax.set_title(\"Loss by Epoch\")\n",
    "ax.legend()\n",
    "plt.show()"
   ]
  },
  {
   "cell_type": "code",
   "execution_count": 20,
   "metadata": {},
   "outputs": [
    {
     "name": "stdout",
     "output_type": "stream",
     "text": [
      "loaded model\n",
      "loaded vectorizer\n"
     ]
    }
   ],
   "source": [
    "lstm_model = keras.models.load_model(MODEL_PATH)\n",
    "print(\"loaded model\")\n",
    "\n",
    "with open(VECTORIZER_PATH, \"rb\") as infile:\n",
    "    vectorizer = pickle.load(infile)\n",
    "print(\"loaded vectorizer\")"
   ]
  },
  {
   "cell_type": "markdown",
   "metadata": {},
   "source": [
    "### 3.5 Evaluate the model with per-class accuracy"
   ]
  },
  {
   "cell_type": "code",
   "execution_count": 21,
   "metadata": {},
   "outputs": [],
   "source": [
    "# Instantiate dictionaries to keep track of errors\n",
    "num_correct_by_idx = {k:0 for k in vectorizer.int_to_token_mapping.keys()}\n",
    "total_count_by_idx = {k:0 for k in vectorizer.int_to_token_mapping.keys()}\n",
    "\n",
    "# Iterate over the batches in the testing data, and count\n",
    "# how many predictions are correctly made\n",
    "for batch_samples, batch_labels in testing_dataset:\n",
    "    gold_labels = batch_labels.numpy().argmax(axis=1)\n",
    "    predictions = lstm_model(batch_samples).numpy().argmax(axis=1)\n",
    "    for i in range(len(gold_labels)):\n",
    "        label = gold_labels[i]\n",
    "        total_count_by_idx[label] += 1\n",
    "        # If the model prediction is correct, count it\n",
    "        if label == predictions[i]:\n",
    "            num_correct_by_idx[label] += 1\n",
    "\n",
    "# Compute how many predictions of each character were actually correct           \n",
    "pct_correct_by_idx = {\n",
    "    idx:(num_correct_by_idx[idx]/total_count_by_idx[idx])\n",
    "    for idx in num_correct_by_idx.keys()\n",
    "    if total_count_by_idx[idx] != 0\n",
    "}"
   ]
  },
  {
   "cell_type": "code",
   "execution_count": 22,
   "metadata": {},
   "outputs": [
    {
     "data": {
      "image/png": "[encoded data removed]",
      "text/plain": [
       "<Figure size 1000x500 with 1 Axes>"
      ]
     },
     "metadata": {},
     "output_type": "display_data"
    }
   ],
   "source": [
    "# Compute how many predictions of each character were actually correct    \n",
    "pct_correct_by_char = {\n",
    "    vectorizer.int_to_token(i):pct for i,pct in pct_correct_by_idx.items()\n",
    "}\n",
    "\n",
    "labels = list(sorted(pct_correct_by_char, key=pct_correct_by_char.get, reverse=True))\n",
    "pct_correct = [pct_correct_by_char[char] for char in labels]\n",
    "labels[labels.index(\" \")] = \"_\"\n",
    "labels[labels.index(\"\\n\")] = \"\\\\n\"\n",
    "\n",
    "fig, ax = plt.subplots(figsize=(10, 5))\n",
    "ax.bar(labels, pct_correct)\n",
    "ax.set_title(\"Per-class Accuracy. '_' Represents Whitespace\")\n",
    "ax.set_xlabel(\"Class (character)\")\n",
    "ax.set_ylabel(\"Accuracy\")\n",
    "\n",
    "plt.show()\n"
   ]
  },
  {
   "cell_type": "markdown",
   "metadata": {},
   "source": [
    "### 3.6 Generate a poem"
   ]
  },
  {
   "cell_type": "code",
   "execution_count": 23,
   "metadata": {},
   "outputs": [],
   "source": [
    "def generate_poem(model, seed, vectorizer, max_length):\n",
    "    \"\"\"Generate a poem using a LSTM neural language model\n",
    "    \n",
    "    Parameters:\n",
    "        model (keras.Sequential):\n",
    "            Trained LSTM neural network\n",
    "        seed (str):\n",
    "            The beginning of a poem, to get the model started\n",
    "        vectorizer (Vectorizer):\n",
    "            Vectorizer fit to the vocabulary of the model and seed\n",
    "        max_length (int):\n",
    "            Maximum number of characters in the poem\n",
    "    \n",
    "    Returns:\n",
    "        str: A poem\n",
    "    \"\"\"\n",
    "    seed_chars = list(seed)\n",
    "    for i in range(0, max_length):\n",
    "        # Vectorize the seed phrase and give it the shape:\n",
    "        # (batch_size, seq_length, vocab_size)\n",
    "        vec = (vectorizer\n",
    "               .tokens_to_vectors(seed_chars)\n",
    "               .reshape(1, len(seed_chars), vectorizer.vocab_size()))\n",
    "\n",
    "        # Ask the model for a prediction on the current seed phrase\n",
    "        pred_distribution = model(vec)[0].numpy()\n",
    "\n",
    "        # Make a choice over the probability distribution, like in the Shannon method\n",
    "        options = list(range(0, vectorizer.vocab_size()))\n",
    "        idx = np.random.choice(options, p=pred_distribution)\n",
    "\n",
    "        # Turn the chosen value into a character and append it to the seed\n",
    "        char = vectorizer.int_to_token(idx)\n",
    "        seed_chars.append(char)\n",
    "\n",
    "        # If the character is one of the poem segmenting symbols, end early\n",
    "        if char in [\"@\", \"$\"]:\n",
    "            break\n",
    "    return \"\".join(seed_chars)\n"
   ]
  },
  {
   "cell_type": "markdown",
   "metadata": {},
   "source": [
    "---\n",
    "\n",
    "## 4. Comparing Generated Poems from N-gram LM and Recurrent Neural LM\n",
    "\n",
    "Generate 3 poems from each type of model and conduct a qualitative analysis on their differences"
   ]
  },
  {
   "cell_type": "markdown",
   "metadata": {},
   "source": [
    "#### N-Gram Language Model Poems"
   ]
  },
  {
   "cell_type": "code",
   "execution_count": 24,
   "metadata": {},
   "outputs": [],
   "source": [
    "# Create poems from BIGRAM model\n",
    "bigram_lm_poems = [\n",
    "    postprocess_for_ngram_lm(bigram_model.generate_poem(max_words=100))\n",
    "    for _ in range(3)\n",
    "]\n",
    "\n",
    "# Create poems from TRIGRAM model\n",
    "trigram_lm_poems = [\n",
    "    postprocess_for_ngram_lm(trigram_model.generate_poem(max_words=100))\n",
    "    for _ in range(3)\n",
    "]"
   ]
  },
  {
   "cell_type": "code",
   "execution_count": 25,
   "metadata": {},
   "outputs": [
    {
     "name": "stdout",
     "output_type": "stream",
     "text": [
      "----- BIGRAM POEMS -----\n",
      "Poem 1\n",
      "a generation playing its myriad waves of proof of the north , \n",
      " by axes ? \n",
      " are , \n",
      " to himself , dress with my arms i hear walt whitman ? is little breaths , \n",
      " i have the neighboring shore to have loved ! \n",
      " torches shine the paths and eidolons.\n",
      "\n",
      " and elude the younger by under her she looks back most to thee , \n",
      " soon shall be happy with the states , but one of that makes minute , \n",
      " but the drummers , to merge in bays , i\n",
      "\n",
      "Poem 2\n",
      "wandering at table , \n",
      " the buildings and evil propels me seek ’ d all the crew of these chants each and strong divine woman that\n",
      " from it is , themselves so that long roll alarming , and\n",
      " growth of the way through the male and on my son to call even we wander ’ d scum , \n",
      " my chair by luck veering , more .\n",
      "\n",
      "Poem 3\n",
      "1\n",
      " what wants , large , the ’ s bay , -- what do less immortal even when the fields of which i heard over the air , full of his brothers mine , , , you hastily walk ’ en at daybreak , thy ultimate human race.\n",
      "\n",
      " 9\n",
      " i have we may filter and light over , \n",
      " ever the from the islands , hunger to the the cool night , \n",
      " how ye is there while thou , bathing myself -- and your fires , \n",
      " i return ’\n",
      "\n",
      "----- TRIGRAM POEMS -----\n",
      "Poem 1\n",
      "the world chaste , temperate , an eidolon.\n",
      "\n",
      " thy very songs not in that thou sat ’ st where washington sat , \n",
      " , criticisms , \n",
      " the measur ’ d , \n",
      " the railroads , with laws , courts , jury and judge , the suez canal , \n",
      " to be work ’ d neck and passionately kiss ’ d person , how solemn they look there is something that shall endure longer even than the mother of all by them , \n",
      " girls , my consolation what they have weight , form upright , death\n",
      "\n",
      "Poem 2\n",
      "city of the sands and drift it in their tents the general western world , \n",
      " a brood of the north atlantic , \n",
      " my own way of the real words are in building the of thy teeming womb thy giant babes in wombs , latent within thyself , \n",
      " through him flights , whirls , screams , , \n",
      " see , great war for you a programme of chants.\n",
      "\n",
      " chants of the rest and tacking the pours copiously out of itself , which i think o tongues ye tell this heart , my\n",
      "\n",
      "Poem 3\n",
      "unseen buds , infinite , teeming , intricate whirl , the sleepers sleep ? have they them , in flutes ’ clear notes and sounding harps ’ for us , \n",
      " passing sweet hours , months , or finish ’ d to powder and pour ’ d after the his thread , \n",
      " i see in you , \n",
      " with the mothers of mothers , \n",
      " to fly in the clouds of dust the to the growth of thousands of globes ! thou hot , and over with its devilish winnings and\n",
      "\n"
     ]
    }
   ],
   "source": [
    "print(\"----- BIGRAM POEMS -----\")\n",
    "for i, bigram_lm_poem in enumerate(bigram_lm_poems):\n",
    "    print(f\"Poem {i+1}\")\n",
    "    print(bigram_lm_poem)\n",
    "    print()\n",
    "\n",
    "print(\"----- TRIGRAM POEMS -----\")\n",
    "for i, trigram_lm_poem in enumerate(trigram_lm_poems):\n",
    "    print(f\"Poem {i+1}\")\n",
    "    print(trigram_lm_poem)\n",
    "    print()"
   ]
  },
  {
   "cell_type": "markdown",
   "metadata": {},
   "source": [
    "#### LSTM Language Model Poems"
   ]
  },
  {
   "cell_type": "code",
   "execution_count": 26,
   "metadata": {},
   "outputs": [],
   "source": [
    "# Create poems from LSTM NEURAL model\n",
    "seed_phrases = [\n",
    "    \"i sing a song of myself \", \n",
    "    \"cool afternoon breeze \", \n",
    "]\n",
    "neural_lm_poems = [\n",
    "    postprocess_for_neural_lm(generate_poem(lstm_model, s, vectorizer, max_length=200))\n",
    "    for s in seed_phrases\n",
    "] "
   ]
  },
  {
   "cell_type": "code",
   "execution_count": 27,
   "metadata": {},
   "outputs": [
    {
     "name": "stdout",
     "output_type": "stream",
     "text": [
      "----- LSTM POEMS -----\n",
      "Poem 1\n",
      "i sing a song of myself in itself,\n",
      " to walk-sion vines of holls scorlings, fast, all sweet, for dream,\n",
      " the young past and bold, yet it tears. o the songs, or no earth,\n",
      " in sponks in these root and fisherous emigran timie\n",
      "\n",
      "Poem 2\n",
      "cool afternoon breeze for you,\n",
      " see the looking--the value of music, exhibited refire’d,\n",
      " which flowering touch--red pork, centre of invitation,\n",
      " are the cries when we will shoot rear’d audy as if shapes, the fearless,\n",
      "\n"
     ]
    }
   ],
   "source": [
    "print(\"----- LSTM POEMS -----\")\n",
    "for i, lstm_lm_poem in enumerate(neural_lm_poems):\n",
    "    print(f\"Poem {i+1}\")\n",
    "    print(lstm_lm_poem)\n",
    "    print()"
   ]
  },
  {
   "cell_type": "markdown",
   "metadata": {},
   "source": [
    "### 4.1 Discussion\n",
    "\n",
    "Unsurprisingly, the bigram model is noticeably worse than the trigram and LSTM models. None of the three models achieve global coherency (coherency through an entire poem), though the trigram and LSTM models have relatively good grammar and create locally coherent/believable snippets.\n"
   ]
  },
  {
   "cell_type": "code",
   "execution_count": null,
   "metadata": {},
   "outputs": [],
   "source": []
  }
 ],
 "metadata": {
  "kernelspec": {
   "display_name": "env",
   "language": "python",
   "name": "python3"
  },
  "language_info": {
   "codemirror_mode": {
    "name": "ipython",
    "version": 3
   },
   "file_extension": ".py",
   "mimetype": "text/x-python",
   "name": "python",
   "nbconvert_exporter": "python",
   "pygments_lexer": "ipython3",
   "version": "3.9.6 (default, Oct 18 2022, 12:41:40) \n[Clang 14.0.0 (clang-1400.0.29.202)]"
  },
  "vscode": {
   "interpreter": {
    "hash": "8b3bcbfdbe2ea4559ba2b087259f245128234fbe81df24eef219cf04c2909952"
   }
  }
 },
 "nbformat": 4,
 "nbformat_minor": 4
}
