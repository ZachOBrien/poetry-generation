{
 "cells": [
  {
   "cell_type": "markdown",
   "metadata": {},
   "source": [
    "# CS4500: Natural Language Processing Final Project\n",
    "\n",
    "# Poetry Generation\n",
    "\n",
    "Zach O'Brien\n",
    "\n",
    "December, 2022\n",
    "\n",
    "\n"
   ]
  },
  {
   "cell_type": "markdown",
   "metadata": {},
   "source": [
    "## 0. Set up Development Environment\n",
    "\n",
    " For additional info on virtual environments, see here: https://docs.python.org/3.9/tutorial/venv.html\n",
    " \n",
    "**To run the code in this notebook, follow these steps.**\n",
    "\n",
    "1. Install Python version 3.9.10, and use that version for the following steps\n",
    "    - It's likely that this project will work with many different versions of Python, especially 3.9.x, but I include the version I worked with here just to be safe.\n",
    "    <br />\n",
    "\n",
    "2. Create a virtual environment\n",
    "\n",
    "    ```shell\n",
    "    python3 -m venv 4120_fp_obrien\n",
    "    ```\n",
    "    <br />\n",
    "    \n",
    "3. Activate the virtual environment\n",
    "\n",
    "    ```shell\n",
    "    # On windows:\n",
    "    4120_fp_obrien\\Scripts\\activate.bat\n",
    "    ```\n",
    "     <br />\n",
    "    \n",
    "    ```shell\n",
    "    # On Unix or MaxOS:\n",
    "    source 4120_fp_obrien/bin/activate\n",
    "    ```\n",
    "     <br />\n",
    "    \n",
    "4. Install dependencies\n",
    "\n",
    "    ```shell\n",
    "    # With the 4120_fp_obrien virtual environment activated:\n",
    "    python -m pip install -r requirements.txt\n",
    "    ```\n",
    "     <br />\n",
    "\n",
    "5. Install this project's modular source code. **This step is CRITICAL**. If skipped, imports will not work.\n",
    "\n",
    "    ```shell\n",
    "    # With the 4120_fp_obrien virtual environment activated:\n",
    "    cd src/\n",
    "    python -m pip install -e .\n",
    "    ```\n",
    "     <br />\n",
    "    \n",
    "6. Verify the installation was succesful by running the unit test suite\n",
    "\n",
    "    ```shell\n",
    "    # In top-level project directory\n",
    "    ./run_unit_tests.sh\n",
    "    ```\n",
    "    <br />\n",
    "\n",
    "7. Finally, re-launch this notebook using the new virtual environment\n",
    "\n",
    "    ```shell\n",
    "    # With the 4120_fp_obrien virtual environment activated:\n",
    "    jupyter lab\n",
    "    ```"
   ]
  },
  {
   "cell_type": "code",
   "execution_count": 1,
   "metadata": {},
   "outputs": [],
   "source": [
    "import itertools\n",
    "import pickle\n",
    "import random\n",
    "import os\n",
    "os.environ[\"TF_CPP_MIN_LOG_LEVEL\"] = \"3\"  # Suppress tensorflow debugging info\n",
    "\n",
    "import pandas as pd\n",
    "import numpy as np\n",
    "import matplotlib.pyplot as plt\n",
    "from nltk.util import pad_sequence\n",
    "from nltk.lm.preprocessing import flatten\n",
    "\n",
    "from dataprep.parse_leaves_of_grass import leaves_of_grass_gutenberg_to_df\n",
    "from dataprep.ngram_lm_preprocessing import preprocess_for_ngram_lm\n",
    "from models.ngram_language_model import LanguageModel"
   ]
  },
  {
   "cell_type": "markdown",
   "metadata": {
    "tags": []
   },
   "source": [
    "## 1. Data Preparation\n",
    "\n",
    "The raw data I used for this project was the complete text of Walt Whitman's \"Leaves of Grass\". To use it with NLP models, I had to parse out individual poems from the collection and then do some preprocessing on them.\n",
    "\n",
    "### 1.1 Parse Raw Document"
   ]
  },
  {
   "cell_type": "code",
   "execution_count": 3,
   "metadata": {},
   "outputs": [
    {
     "data": {
      "text/html": [
       "<div>\n",
       "<style scoped>\n",
       "    .dataframe tbody tr th:only-of-type {\n",
       "        vertical-align: middle;\n",
       "    }\n",
       "\n",
       "    .dataframe tbody tr th {\n",
       "        vertical-align: top;\n",
       "    }\n",
       "\n",
       "    .dataframe thead th {\n",
       "        text-align: right;\n",
       "    }\n",
       "</style>\n",
       "<table border=\"1\" class=\"dataframe\">\n",
       "  <thead>\n",
       "    <tr style=\"text-align: right;\">\n",
       "      <th></th>\n",
       "      <th>book_title</th>\n",
       "      <th>poem_title</th>\n",
       "      <th>poem</th>\n",
       "    </tr>\n",
       "  </thead>\n",
       "  <tbody>\n",
       "    <tr>\n",
       "      <th>0</th>\n",
       "      <td>BOOK I.  INSCRIPTIONS</td>\n",
       "      <td>One’s-Self I Sing</td>\n",
       "      <td>One’s-self I sing, a simple separate person,\\n...</td>\n",
       "    </tr>\n",
       "    <tr>\n",
       "      <th>1</th>\n",
       "      <td>BOOK I.  INSCRIPTIONS</td>\n",
       "      <td>As I Ponder’d in Silence</td>\n",
       "      <td>As I ponder’d in silence,\\n  Returning upon my...</td>\n",
       "    </tr>\n",
       "  </tbody>\n",
       "</table>\n",
       "</div>"
      ],
      "text/plain": [
       "              book_title                poem_title  \\\n",
       "0  BOOK I.  INSCRIPTIONS         One’s-Self I Sing   \n",
       "1  BOOK I.  INSCRIPTIONS  As I Ponder’d in Silence   \n",
       "\n",
       "                                                poem  \n",
       "0  One’s-self I sing, a simple separate person,\\n...  \n",
       "1  As I ponder’d in silence,\\n  Returning upon my...  "
      ]
     },
     "execution_count": 3,
     "metadata": {},
     "output_type": "execute_result"
    }
   ],
   "source": [
    "with open(\"data/leaves-of-grass.txt\") as f:\n",
    "    lines = f.readlines()\n",
    "\n",
    "# I encapsulated the functionality of parsing the raw text into this function.\n",
    "# It essentially segments on books, then poems.\n",
    "poems = leaves_of_grass_gutenberg_to_df(lines)\n",
    "poems.head(2)"
   ]
  },
  {
   "cell_type": "code",
   "execution_count": 4,
   "metadata": {},
   "outputs": [
    {
     "data": {
      "text/plain": [
       "'One’s-self I sing, a simple separate person,\\n  Yet utter the word Democratic, the word En-Masse.\\n\\n  Of physiology from top to toe I sing,\\n  Not physiognomy alone nor brain alone is worthy for the Muse, I say\\n      the Form complete is worthier far,\\n  The Female equally with the Male I sing.\\n\\n  Of Life immense in passion, pulse, and power,\\n  Cheerful, for freest action form’d under the laws divine,\\n  The Modern Man I sing.'"
      ]
     },
     "execution_count": 4,
     "metadata": {},
     "output_type": "execute_result"
    }
   ],
   "source": [
    "poems[\"poem\"][0]"
   ]
  },
  {
   "cell_type": "markdown",
   "metadata": {},
   "source": [
    "## 2. 3-gram Language Model\n",
    "\n",
    "For this model I did not use a library. I used my own implementation of an n-gram language model from earlier inthe semester."
   ]
  },
  {
   "cell_type": "markdown",
   "metadata": {},
   "source": [
    "### 2.1 Prepare n-grams to give to the model"
   ]
  },
  {
   "cell_type": "code",
   "execution_count": 21,
   "metadata": {},
   "outputs": [],
   "source": [
    "# To indicate the beginning and end of a poem\n",
    "POEM_START_SYMBOL = \"<p>\"\n",
    "POEM_END_SYMBOL = \"</p>\""
   ]
  },
  {
   "cell_type": "code",
   "execution_count": 5,
   "metadata": {},
   "outputs": [],
   "source": [
    "N_GRAM = 3"
   ]
  },
  {
   "cell_type": "code",
   "execution_count": 6,
   "metadata": {},
   "outputs": [
    {
     "name": "stdout",
     "output_type": "stream",
     "text": [
      "There are 159020 tokens in the dataset. \n",
      "\n",
      "['<p>', '<p>', 'one', '’', 's-self', 'i', 'sing', ',', 'a', 'simple']\n",
      "['good-bye', '--', 'and', 'hail', '!', 'my', 'fancy', '.', '</p>', '</p>']\n"
     ]
    }
   ],
   "source": [
    "# Tokenize poems into words, but not sentences. Sentence and line breaks\n",
    "# can have artistic meaning in poems, so I want their relationships to actual words\n",
    "# to be preserved.\n",
    "tokenized_poems = [preprocess_for_ngram_lm(p) for p in poems[\"poem\"]]\n",
    "padded_tokenized_poems = [list(pad_sequence(\n",
    "                                poem,\n",
    "                                pad_left=True, \n",
    "                                left_pad_symbol=POEM_START_SYMBOL,\n",
    "                                pad_right=True,\n",
    "                                right_pad_symbol=POEM_END_SYMBOL,\n",
    "                                n=N_GRAM))\n",
    "                          for poem in tokenized_poems]\n",
    "    \n",
    "tokens = list(flatten(padded_tokenized_poems))\n",
    "\n",
    "print(f\"There are {len(tokens)} tokens in the dataset. \\n\")\n",
    "print(tokens[0:10])\n",
    "print(tokens[-10:],)"
   ]
  },
  {
   "cell_type": "markdown",
   "metadata": {},
   "source": [
    "### 2.2 Train the n-gram language model"
   ]
  },
  {
   "cell_type": "code",
   "execution_count": 7,
   "metadata": {},
   "outputs": [],
   "source": [
    "ngram_model = LanguageModel(N_GRAM, is_laplace_smoothing=True)\n",
    "ngram_model.train(tokens)"
   ]
  },
  {
   "cell_type": "markdown",
   "metadata": {},
   "source": [
    "### 2.3 Generate a Poem"
   ]
  },
  {
   "cell_type": "code",
   "execution_count": 8,
   "metadata": {},
   "outputs": [
    {
     "name": "stdout",
     "output_type": "stream",
     "text": [
      " o tan-faced  , \n",
      " it was read here , \n",
      " carrying what has the day and night , at least i know.\n",
      "\n",
      " is it night ? are we , even in the open air , \n",
      " holding a tray , he is action and power  things , \n",
      " her high-borne turban ’ d me , \n",
      "  , always  , my\n",
      " companions.\n",
      "\n",
      " o  ? \n",
      "\n",
      " is to-day nothing ? \n",
      " have you to confide to me with the rest , the house itself.\n",
      "\n",
      " belief i sing -- as if one could but fly like a child , \n",
      " some of them , \n",
      " the household wreck ’ d alone over the past -- having its long , \n",
      " forever touching them or touch , and the  rise after rise bow the phantoms behind me states ! \n",
      " shapes of the brawny and tall-topt city , \n",
      " she ’ s place in the midst of the sea , and the victories of\n",
      " mighty  4\n",
      " muscle and pluck forever ! \n",
      " continue your  face and worn brow , black , she  the moor , \n",
      " and what shall i cease from thee -- the  of the baritone singer singing his\n",
      " sweet romanza , i sing.\n",
      " man ’ s kiss dwells on these bearded lips . )</p></p>\n"
     ]
    }
   ],
   "source": [
    "poem = ngram_model.generate_poem()\n",
    "print((poem\n",
    "       .replace(\"<p>\", \"\")\n",
    "       .replace(\"<UNK>\", \"\")\n",
    "       .replace(\"NEWLINE\", \"\\n\")\n",
    "       .replace(\"<nl>\", \"\\n\")))"
   ]
  },
  {
   "cell_type": "markdown",
   "metadata": {},
   "source": [
    "As you can see, a little bit of postprocessing is required. \\<UNK> words should be removed, and NEWLINE should be replaced with \\\\n"
   ]
  },
  {
   "cell_type": "markdown",
   "metadata": {},
   "source": [
    "## 3. LSTM Neural Network Language Model\n",
    "\n",
    "The task of generating text can be framed as a timeseries task. Given a sequence of prior tokens, predict the probability distribution over the vocabulary of the next token in the sequence.\n",
    "\n",
    "In this project, I tokenize the data into *characters*, which at first was very counterintuitive to me. During office hours, Professor Amir explained to me why this approach is viable. He also sent me a great article on this task, which can be found here: http://karpathy.github.io/2015/05/21/rnn-effectiveness/.\n",
    "\n",
    "Here is an overview of how I implemented the data preprocessing and model architecture for this section:\n",
    "\n",
    "**Preprocessing**\n",
    "\n",
    "1. Lowercase every poem\n",
    "\n",
    "2. Wrap each poem in `poem_start` and `poem_end` symbols. Here I used \"@\" and \"$\", respectively.\n",
    "\n",
    "3. Split each poem into characters\n",
    "\n",
    "4. Replace digits with whitespace, to reduce the size of the vocabulary. Numbers are used periodically to mark lines in poems, and I do not want to keep them.\n",
    "\n",
    "5. Fit a text vectorizer to the vocabulary of character tokens, and vectorize every token\n",
    "\n",
    "**Model Architecture**\n",
    "\n",
    "I used a Keras sequential model with two LSTM layers, two Dropout layers, and a softmax output layer:\n",
    "\n",
    "Input --> LSTM(256) --> Dropout --> LSTM(256) --> Dropout --> Output(Softmax)\n",
    "\n",
    "**Model Training**\n",
    "\n",
    "This model is fairly involved to train. There are approximately 1.5 million input samples which are all given to the model every epoch. On a machine without a GPU, training takes hours. I trained on an AWS GPU instance, and saved/loaded the trained model for visualizations and analysis here."
   ]
  },
  {
   "cell_type": "code",
   "execution_count": 9,
   "metadata": {},
   "outputs": [],
   "source": [
    "import keras\n",
    "from keras.utils import timeseries_dataset_from_array\n",
    "from keras.layers import LSTM, Dropout\n",
    "\n",
    "from dataprep.neural_lm_preprocessing import (\n",
    "    Vectorizer,\n",
    "    preprocess_for_neural_lm,\n",
    ")\n",
    "from models.neural_language_models import build_character_lstm_model"
   ]
  },
  {
   "cell_type": "markdown",
   "metadata": {},
   "source": [
    "### 3.1 Prepare data"
   ]
  },
  {
   "cell_type": "code",
   "execution_count": 10,
   "metadata": {},
   "outputs": [
    {
     "data": {
      "text/html": [
       "<div>\n",
       "<style scoped>\n",
       "    .dataframe tbody tr th:only-of-type {\n",
       "        vertical-align: middle;\n",
       "    }\n",
       "\n",
       "    .dataframe tbody tr th {\n",
       "        vertical-align: top;\n",
       "    }\n",
       "\n",
       "    .dataframe thead th {\n",
       "        text-align: right;\n",
       "    }\n",
       "</style>\n",
       "<table border=\"1\" class=\"dataframe\">\n",
       "  <thead>\n",
       "    <tr style=\"text-align: right;\">\n",
       "      <th></th>\n",
       "      <th>Unnamed: 0</th>\n",
       "      <th>book_title</th>\n",
       "      <th>poem_title</th>\n",
       "      <th>poem</th>\n",
       "    </tr>\n",
       "  </thead>\n",
       "  <tbody>\n",
       "    <tr>\n",
       "      <th>0</th>\n",
       "      <td>0</td>\n",
       "      <td>BOOK I.  INSCRIPTIONS</td>\n",
       "      <td>One’s-Self I Sing</td>\n",
       "      <td>One’s-self I sing, a simple separate person,\\n...</td>\n",
       "    </tr>\n",
       "    <tr>\n",
       "      <th>1</th>\n",
       "      <td>1</td>\n",
       "      <td>BOOK I.  INSCRIPTIONS</td>\n",
       "      <td>As I Ponder’d in Silence</td>\n",
       "      <td>As I ponder’d in silence,\\n  Returning upon my...</td>\n",
       "    </tr>\n",
       "  </tbody>\n",
       "</table>\n",
       "</div>"
      ],
      "text/plain": [
       "   Unnamed: 0             book_title                poem_title  \\\n",
       "0           0  BOOK I.  INSCRIPTIONS         One’s-Self I Sing   \n",
       "1           1  BOOK I.  INSCRIPTIONS  As I Ponder’d in Silence   \n",
       "\n",
       "                                                poem  \n",
       "0  One’s-self I sing, a simple separate person,\\n...  \n",
       "1  As I ponder’d in silence,\\n  Returning upon my...  "
      ]
     },
     "execution_count": 10,
     "metadata": {},
     "output_type": "execute_result"
    }
   ],
   "source": [
    "# Load the poems from disk\n",
    "leaves_of_grass_df = pd.read_csv(\"data/leaves_of_grass.csv\")\n",
    "\n",
    "leaves_of_grass_df.head(2)"
   ]
  },
  {
   "cell_type": "code",
   "execution_count": 11,
   "metadata": {},
   "outputs": [
    {
     "name": "stdout",
     "output_type": "stream",
     "text": [
      "Snippet of original poems:\n",
      "One’s-self I sing\n",
      "\n",
      "Snippet after preprocessing:\n",
      "['@', 'o', 'n', 'e', '’', 's', '-', 's', 'e', 'l', 'f', ' ', 'i', ' ', 's', 'i', 'n'] ...\n"
     ]
    }
   ],
   "source": [
    "# Pull only the poems out of the dataset\n",
    "poems = list(leaves_of_grass_df[\"poem\"])\n",
    "print(\"Snippet of original poems:\")\n",
    "print(poems[0][:17])\n",
    "print()\n",
    "\n",
    "# Preprocess the poems with the steps outlined above\n",
    "poems = [preprocess_for_neural_lm(poem) for poem in poems]\n",
    "print(\"Snippet after preprocessing:\")\n",
    "print(poems[0][:17], \"...\")"
   ]
  },
  {
   "cell_type": "code",
   "execution_count": 12,
   "metadata": {},
   "outputs": [
    {
     "name": "stdout",
     "output_type": "stream",
     "text": [
      "Vocabulary:\n",
      "['@', 'o', 'n', 'e', '’', 's', '-', 'l', 'f', ' ', 'i', 'g', ',', 'a', 'm', 'p', 'r', 't', '\\n', 'y', 'u', 'h', 'w', 'd', 'c', '.', 'b', 'q', 'v', '$', 'k', '?', '(', ')', 'x', 'j', 'z', '!', ';', 'œ', ':', '“', '”', '[', ']']\n"
     ]
    }
   ],
   "source": [
    "# Fit a vectorizer to the vocabulary of characters\n",
    "vectorizer = Vectorizer()\n",
    "vectorizer.fit(itertools.chain(*poems))\n",
    "# Vectorize all characters\n",
    "vectorized_poems = [vectorizer.tokens_to_vectors(poem) for poem in poems]\n",
    "\n",
    "print(\"Vocabulary:\")\n",
    "print(list(vectorizer.token_to_int_mapping.keys()))"
   ]
  },
  {
   "cell_type": "markdown",
   "metadata": {},
   "source": [
    "### 3.2 Create train, validation, and test sets"
   ]
  },
  {
   "cell_type": "code",
   "execution_count": 13,
   "metadata": {},
   "outputs": [],
   "source": [
    "# Randomly shuffle the poems before splitting into training and validation sets\n",
    "random.shuffle(vectorized_poems)"
   ]
  },
  {
   "cell_type": "code",
   "execution_count": 14,
   "metadata": {},
   "outputs": [],
   "source": [
    "# Use 70% of the data for training, and 15% for validation \n",
    "# during testing, and 15% for final model evaluation\n",
    "train_set_size = int(0.8 * len(vectorized_poems))\n",
    "validation_set_size = int(0.15 * len(vectorized_poems))\n",
    "test_set_size = int(0.15 * len(vectorized_poems))\n",
    "\n",
    "train_set = vectorized_poems[:train_set_size]\n",
    "train_set = np.array(list(itertools.chain(*train_set)))\n",
    "\n",
    "validation_set = vectorized_poems[train_set_size:(train_set_size + validation_set_size)]\n",
    "validation_set = np.array(list(itertools.chain(*validation_set)))\n",
    "\n",
    "test_set = vectorized_poems[train_set_size+validation_set_size:]\n",
    "test_set = np.array(list(itertools.chain(*test_set)))\n",
    "\n",
    "# Each sample given to the model for training will be a sequence of 100 characters\n",
    "SEQUENCE_LENGTH = 100\n",
    "# I do not want to skip any samples, so sampling rate is 1\n",
    "SAMPLING_RATE = 1\n",
    "BATCH_SIZE = 4096\n",
    "\n",
    "# Build timeseries datasets using Keras helpers\n",
    "train_dataset = timeseries_dataset_from_array(\n",
    "    data=train_set[:-SEQUENCE_LENGTH],\n",
    "    targets=train_set[SEQUENCE_LENGTH:],\n",
    "    sampling_rate=SAMPLING_RATE,\n",
    "    sequence_length=SEQUENCE_LENGTH,\n",
    "    batch_size=BATCH_SIZE)\n",
    "\n",
    "validation_dataset = timeseries_dataset_from_array(\n",
    "    data=validation_set[:-SEQUENCE_LENGTH],\n",
    "    targets=validation_set[SEQUENCE_LENGTH:],\n",
    "    sampling_rate=SAMPLING_RATE,\n",
    "    sequence_length=SEQUENCE_LENGTH,\n",
    "    batch_size=BATCH_SIZE)\n",
    "\n",
    "testing_dataset = timeseries_dataset_from_array(\n",
    "    data=test_set[:-SEQUENCE_LENGTH],\n",
    "    targets=test_set[SEQUENCE_LENGTH:],\n",
    "    sampling_rate=SAMPLING_RATE,\n",
    "    sequence_length=SEQUENCE_LENGTH,\n",
    "    batch_size=BATCH_SIZE)"
   ]
  },
  {
   "cell_type": "markdown",
   "metadata": {},
   "source": [
    "### 3.3 Build and train the model"
   ]
  },
  {
   "cell_type": "code",
   "execution_count": 15,
   "metadata": {},
   "outputs": [],
   "source": [
    "# Build the model, with LSTM layers for handling the timeseries data\n",
    "# and Dropout layers to help reduce overfitting\n",
    "model = build_character_lstm_model(\n",
    "    vocab_size=vectorizer.vocab_size(),\n",
    "    hidden_layers=[LSTM(256, return_sequences=True),\n",
    "                   Dropout(0.3),\n",
    "                   LSTM(256),\n",
    "                   Dropout(0.3)],\n",
    "    lr=0.01)"
   ]
  },
  {
   "cell_type": "code",
   "execution_count": 16,
   "metadata": {},
   "outputs": [
    {
     "name": "stdout",
     "output_type": "stream",
     "text": [
      "Training takes too long on a computer without a GPU, so it is commented out in the final submission\n",
      "I trained a model on an AWS GPU server, and have saved the training results to disk.\n",
      "The model can be found in the model/ directory in my submission, and it is used in the following cells\n"
     ]
    }
   ],
   "source": [
    "# Train the model\n",
    "\n",
    "\"\"\"\n",
    "history = model.fit(train_dataset, epochs=1)\n",
    "\n",
    "model.save(\"final_model/character_based_lm\")  # Save in TensorFlow's new SavedModel format\n",
    "with open(\"final_model/history.pkl\", \"wb\") as outfile:\n",
    "    pickle.dump(history.history, outfile)\n",
    "with open(\"final_model/vectorizer.pkl\", \"wb\") as outfile:\n",
    "    pickle.dump(vectorizer, outfile)\n",
    "\"\"\"\n",
    "\n",
    "print(\"Training takes too long on a computer without a GPU, so it is commented out in the final submission\")\n",
    "print(\"I trained a model on an AWS GPU server, and have saved the training results to disk.\")\n",
    "print(\"The model can be found in the model/ directory in my submission, and it is used in the following cells\")"
   ]
  },
  {
   "cell_type": "markdown",
   "metadata": {},
   "source": [
    "### 3.4 Visualize training"
   ]
  },
  {
   "cell_type": "code",
   "execution_count": 17,
   "metadata": {},
   "outputs": [],
   "source": [
    "MODEL_DIR = \"final_model/\"\n",
    "HISTORY_PATH = MODEL_DIR + \"history.pkl\"\n",
    "VECTORIZER_PATH = MODEL_DIR + \"vectorizer.pkl\"\n",
    "MODEL_PATH = MODEL_DIR + \"character_based_lm\""
   ]
  },
  {
   "cell_type": "code",
   "execution_count": 18,
   "metadata": {},
   "outputs": [
    {
     "name": "stdout",
     "output_type": "stream",
     "text": [
      "dict_keys(['loss', 'val_loss'])\n"
     ]
    },
    {
     "data": {
      "text/plain": [
       "<matplotlib.legend.Legend at 0x7f7361e9e610>"
      ]
     },
     "execution_count": 18,
     "metadata": {},
     "output_type": "execute_result"
    },
    {
     "data": {
      "image/png": "[encoded data removed]",
      "text/plain": [
       "<Figure size 640x480 with 1 Axes>"
      ]
     },
     "metadata": {},
     "output_type": "display_data"
    }
   ],
   "source": [
    "with open(HISTORY_PATH, \"rb\") as infile:\n",
    "    history = pickle.load(infile)\n",
    "\n",
    "print(history.keys())\n",
    "fig, ax = plt.subplots()\n",
    "ax.plot(history[\"loss\"], label=\"Training Loss\")\n",
    "ax.plot(history[\"val_loss\"], label=\"Validation Loss\")\n",
    "ax.set_xlabel(\"Epoch\")\n",
    "ax.set_ylabel(\"Loss (Categorical Crossentropy)\")\n",
    "ax.set_title(\"Loss by Epoch\")\n",
    "ax.legend()"
   ]
  },
  {
   "cell_type": "markdown",
   "metadata": {},
   "source": [
    "### 3.5 Evaluate the model on the test set"
   ]
  },
  {
   "cell_type": "code",
   "execution_count": 19,
   "metadata": {},
   "outputs": [],
   "source": [
    "# TODO"
   ]
  },
  {
   "cell_type": "markdown",
   "metadata": {},
   "source": [
    "### 3.6 Generate a poem"
   ]
  },
  {
   "cell_type": "code",
   "execution_count": 20,
   "metadata": {},
   "outputs": [
    {
     "name": "stdout",
     "output_type": "stream",
     "text": [
      "loaded vectorizer\n",
      "loaded model\n",
      "i sing a song of myself so meaging,\n",
      "  if wash of mighty best well-know was daughters and his crost-bare;)\n",
      "  all thought of the tois to behold, crowd not you,\n",
      "  steel, the true, indisnopels fluhables.)$\n"
     ]
    }
   ],
   "source": [
    "with open(VECTORIZER_PATH, \"rb\") as infile:\n",
    "    vectorizer = pickle.load(infile)\n",
    "print(\"loaded vectorizer\")\n",
    "\n",
    "model = keras.models.load_model(MODEL_PATH)\n",
    "print(\"loaded model\")\n",
    "\n",
    "seed_phrase = \"i sing a song of myself \"\n",
    "seed_phrase_chars = list(seed_phrase)\n",
    "\n",
    "MAX_POEM_LENGTH = 250  # in case we don't encounter a poem boundary character\n",
    "\n",
    "for i in range(0, MAX_POEM_LENGTH):\n",
    "    # Vectorize the seed phrase and give it the shape:\n",
    "    # (batch_size, seq-length, vocab_size)\n",
    "    vec = (vectorizer\n",
    "           .tokens_to_vectors(list(seed_phrase_chars))\n",
    "           .reshape(1, len(seed_phrase_chars), vectorizer.vocab_size()))\n",
    "    \n",
    "    # Ask the model for a prediction on the current seed phrase\n",
    "    pred_distribution = model(vec)[0].numpy()\n",
    "    \n",
    "    # Make a choice over the probability distribution, like in the Shannon method\n",
    "    options = list(range(0, vectorizer.vocab_size()))\n",
    "    idx = np.random.choice(options, p=pred_distribution)\n",
    "    \n",
    "    # Turn the chosen value into a character and append it to the seed\n",
    "    char = vectorizer.int_to_token(idx)\n",
    "    seed_phrase_chars.append(char)\n",
    "    \n",
    "    # If the character is one of the poem segmenting symbols, end early\n",
    "    if char in [\"@\", \"$\"]:\n",
    "        break\n",
    "\n",
    "print(\"\".join(seed_phrase_chars))"
   ]
  },
  {
   "cell_type": "markdown",
   "metadata": {},
   "source": [
    "## 4. Comparing Generated Poems from N-gram LM and Recurrent Neural LM"
   ]
  },
  {
   "cell_type": "code",
   "execution_count": null,
   "metadata": {},
   "outputs": [],
   "source": []
  }
 ],
 "metadata": {
  "kernelspec": {
   "display_name": "Python 3 (ipykernel)",
   "language": "python",
   "name": "python3"
  },
  "language_info": {
   "codemirror_mode": {
    "name": "ipython",
    "version": 3
   },
   "file_extension": ".py",
   "mimetype": "text/x-python",
   "name": "python",
   "nbconvert_exporter": "python",
   "pygments_lexer": "ipython3",
   "version": "3.9.15 | packaged by conda-forge | (main, Nov 22 2022, 08:45:29) \n[GCC 10.4.0]"
  },
  "vscode": {
   "interpreter": {
    "hash": "4c33934e84c55379f2fd02d25af8581044b12d1366e1949e01358a98ff36d570"
   }
  }
 },
 "nbformat": 4,
 "nbformat_minor": 4
}
